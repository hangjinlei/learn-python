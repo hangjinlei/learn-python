{
 "cells": [
  {
   "cell_type": "code",
   "execution_count": 2,
   "metadata": {},
   "outputs": [],
   "source": [
    "class Person:\n",
    "    def __init__(self, first_name):\n",
    "        self._first_name = first_name\n",
    "\n",
    "    @property\n",
    "    def first_name(self) -> str:\n",
    "        print(\"getter\")\n",
    "        return self._first_name\n",
    "\n",
    "    @first_name.setter\n",
    "    def first_name(self, value):\n",
    "        if not isinstance(value, str):\n",
    "            raise TypeError(\"Expected a string\")\n",
    "        print(\"setter\")\n",
    "        self._first_name = value\n",
    "\n",
    "    @first_name.deleter\n",
    "    def first_name(self):\n",
    "        print(\"deleter\")\n",
    "        raise AttributeError(\"Can't delete attribute\")\n",
    "        # del self._first_name\n"
   ]
  },
  {
   "cell_type": "code",
   "execution_count": 4,
   "metadata": {},
   "outputs": [
    {
     "name": "stdout",
     "output_type": "stream",
     "text": [
      "getter\n",
      "deleter\n"
     ]
    },
    {
     "ename": "AttributeError",
     "evalue": "Can't delete attribute",
     "output_type": "error",
     "traceback": [
      "\u001b[0;31m---------------------------------------------------------------------------\u001b[0m",
      "\u001b[0;31mAttributeError\u001b[0m                            Traceback (most recent call last)",
      "Cell \u001b[0;32mIn[4], line 5\u001b[0m\n\u001b[1;32m      1\u001b[0m p \u001b[39m=\u001b[39m Person(first_name\u001b[39m=\u001b[39m\u001b[39m\"\u001b[39m\u001b[39mTimothy\u001b[39m\u001b[39m\"\u001b[39m)\n\u001b[1;32m      3\u001b[0m p\u001b[39m.\u001b[39mfirst_name\n\u001b[0;32m----> 5\u001b[0m \u001b[39mdel\u001b[39;00m p\u001b[39m.\u001b[39;49mfirst_name\n",
      "Cell \u001b[0;32mIn[2], line 20\u001b[0m, in \u001b[0;36mPerson.first_name\u001b[0;34m(self)\u001b[0m\n\u001b[1;32m     17\u001b[0m \u001b[39m@first_name\u001b[39m\u001b[39m.\u001b[39mdeleter\n\u001b[1;32m     18\u001b[0m \u001b[39mdef\u001b[39;00m \u001b[39mfirst_name\u001b[39m(\u001b[39mself\u001b[39m):\n\u001b[1;32m     19\u001b[0m     \u001b[39mprint\u001b[39m(\u001b[39m\"\u001b[39m\u001b[39mdeleter\u001b[39m\u001b[39m\"\u001b[39m)\n\u001b[0;32m---> 20\u001b[0m     \u001b[39mraise\u001b[39;00m \u001b[39mAttributeError\u001b[39;00m(\u001b[39m\"\u001b[39m\u001b[39mCan\u001b[39m\u001b[39m'\u001b[39m\u001b[39mt delete attribute\u001b[39m\u001b[39m\"\u001b[39m)\n",
      "\u001b[0;31mAttributeError\u001b[0m: Can't delete attribute"
     ]
    }
   ],
   "source": [
    "p = Person(first_name=\"Timothy\")\n",
    "\n",
    "p.first_name\n",
    "\n",
    "del p.first_name\n"
   ]
  }
 ],
 "metadata": {
  "kernelspec": {
   "display_name": "Python 3",
   "language": "python",
   "name": "python3"
  },
  "language_info": {
   "codemirror_mode": {
    "name": "ipython",
    "version": 3
   },
   "file_extension": ".py",
   "mimetype": "text/x-python",
   "name": "python",
   "nbconvert_exporter": "python",
   "pygments_lexer": "ipython3",
   "version": "3.11.1"
  },
  "orig_nbformat": 4,
  "vscode": {
   "interpreter": {
    "hash": "949777d72b0d2535278d3dc13498b2535136f6dfe0678499012e853ee9abcab1"
   }
  }
 },
 "nbformat": 4,
 "nbformat_minor": 2
}
