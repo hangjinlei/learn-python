{
 "cells": [
  {
   "attachments": {},
   "cell_type": "markdown",
   "metadata": {},
   "source": [
    "- \\*args 表示任意的位置参数\n",
    "- \\*\\*kwargs 表示任意的关键字参数\n"
   ]
  },
  {
   "cell_type": "code",
   "execution_count": 4,
   "metadata": {},
   "outputs": [
    {
     "name": "stdout",
     "output_type": "stream",
     "text": [
      "(1, 2, 3)\n",
      "{'a': 'a', 'b': 'b'}\n"
     ]
    }
   ],
   "source": [
    "def anyargs(*args, **kwargs):\n",
    "    print(args)  # A tuple\n",
    "    print(kwargs)  # A dict\n",
    "\n",
    "\n",
    "anyargs(1, 2, 3, a=\"a\", b=\"b\")\n"
   ]
  },
  {
   "attachments": {},
   "cell_type": "markdown",
   "metadata": {},
   "source": [
    "一个 \\* 参数只能出现在函数定义中最后一个位置参数后面, 而 \\*\\*参数只能出现在最后一个参数. 有一点要注意的是, 在 \\* 参数后面仍然可以定义其他参数\n",
    "\n",
    "因此可以利用这个特性, 强制使用关键字参数\n"
   ]
  },
  {
   "cell_type": "code",
   "execution_count": 3,
   "metadata": {},
   "outputs": [
    {
     "ename": "TypeError",
     "evalue": "recv() takes 1 positional argument but 2 were given",
     "output_type": "error",
     "traceback": [
      "\u001b[0;31m---------------------------------------------------------------------------\u001b[0m",
      "\u001b[0;31mTypeError\u001b[0m                                 Traceback (most recent call last)",
      "Cell \u001b[0;32mIn[3], line 6\u001b[0m\n\u001b[1;32m      2\u001b[0m     \u001b[39m'\u001b[39m\u001b[39mReceives a message\u001b[39m\u001b[39m'\u001b[39m\n\u001b[1;32m      3\u001b[0m     \u001b[39mpass\u001b[39;00m\n\u001b[0;32m----> 6\u001b[0m recv(\u001b[39m1024\u001b[39;49m, \u001b[39mTrue\u001b[39;49;00m)  \u001b[39m# TypeError\u001b[39;00m\n\u001b[1;32m      7\u001b[0m recv(\u001b[39m1024\u001b[39m, block\u001b[39m=\u001b[39m\u001b[39mTrue\u001b[39;00m)  \u001b[39m# Ok\u001b[39;00m\n",
      "\u001b[0;31mTypeError\u001b[0m: recv() takes 1 positional argument but 2 were given"
     ]
    }
   ],
   "source": [
    "def recv(maxsize, *, block):\n",
    "    'Receives a message'\n",
    "    pass\n",
    "\n",
    "\n",
    "recv(1024, True)  # TypeError\n",
    "recv(1024, block=True)  # Ok\n"
   ]
  },
  {
   "cell_type": "code",
   "execution_count": 2,
   "metadata": {},
   "outputs": [
    {
     "ename": "TypeError",
     "evalue": "recv() takes 0 positional arguments but 1 was given",
     "output_type": "error",
     "traceback": [
      "\u001b[0;31m---------------------------------------------------------------------------\u001b[0m",
      "\u001b[0;31mTypeError\u001b[0m                                 Traceback (most recent call last)",
      "Cell \u001b[0;32mIn[2], line 6\u001b[0m\n\u001b[1;32m      2\u001b[0m     \u001b[39m'\u001b[39m\u001b[39mReceives a message\u001b[39m\u001b[39m'\u001b[39m\n\u001b[1;32m      3\u001b[0m     \u001b[39mpass\u001b[39;00m\n\u001b[0;32m----> 6\u001b[0m recv(\u001b[39m1024\u001b[39;49m)  \u001b[39m# TypeError\u001b[39;00m\n\u001b[1;32m      7\u001b[0m recv(block\u001b[39m=\u001b[39m\u001b[39m1024\u001b[39m)\n",
      "\u001b[0;31mTypeError\u001b[0m: recv() takes 0 positional arguments but 1 was given"
     ]
    }
   ],
   "source": [
    "def recv(*, block):\n",
    "    'Receives a message'\n",
    "    pass\n",
    "\n",
    "\n",
    "recv(1024)  # TypeError\n",
    "recv(block=1024)\n"
   ]
  }
 ],
 "metadata": {
  "kernelspec": {
   "display_name": "Python 3",
   "language": "python",
   "name": "python3"
  },
  "language_info": {
   "codemirror_mode": {
    "name": "ipython",
    "version": 3
   },
   "file_extension": ".py",
   "mimetype": "text/x-python",
   "name": "python",
   "nbconvert_exporter": "python",
   "pygments_lexer": "ipython3",
   "version": "3.11.1"
  },
  "orig_nbformat": 4,
  "vscode": {
   "interpreter": {
    "hash": "949777d72b0d2535278d3dc13498b2535136f6dfe0678499012e853ee9abcab1"
   }
  }
 },
 "nbformat": 4,
 "nbformat_minor": 2
}
