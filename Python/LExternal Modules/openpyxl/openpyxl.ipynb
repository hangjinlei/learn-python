{
 "cells": [
  {
   "cell_type": "markdown",
   "metadata": {},
   "source": [
    "# Python"
   ]
  },
  {
   "cell_type": "code",
   "execution_count": null,
   "metadata": {},
   "outputs": [],
   "source": [
    "import openpyxl as xl\n",
    "from openpyxl.chart.bar_chart import BarChart\n",
    "from openpyxl.chart.reference import Reference\n",
    "\n",
    "\n",
    "def process_workbook(filename):\n",
    "    wb = xl.load_workbook(filename)\n",
    "    sheet = wb[\"Sheet1\"]\n",
    "    # cell = sheet[\"A1\"]\n",
    "    cell = sheet.cell(1, 1)\n",
    "    print(cell.value)\n",
    "\n",
    "    for row in range(2, sheet.max_row + 1):\n",
    "        cell = sheet.cell(row, 3)\n",
    "        corrected_price = cell.value * 0.9\n",
    "        corrected_price_cell = sheet.cell(row, 4)\n",
    "        corrected_price_cell.value = corrected_price\n",
    "\n",
    "    values = Reference(sheet,\n",
    "                       min_row=2,\n",
    "                       max_row=sheet.max_row,\n",
    "                       min_col=4,\n",
    "                       max_col=4)\n",
    "    chart = BarChart()\n",
    "    chart.add_data(values)\n",
    "    sheet.add_chart(chart, \"E2\")\n",
    "\n",
    "    wb.save(filename)"
   ]
  }
 ],
 "metadata": {
  "kernelspec": {
   "display_name": "Python 3.10.4 64-bit",
   "language": "python",
   "name": "python3"
  },
  "language_info": {
   "codemirror_mode": {
    "name": "ipython",
    "version": 3
   },
   "file_extension": ".py",
   "mimetype": "text/x-python",
   "name": "python",
   "nbconvert_exporter": "python",
   "pygments_lexer": "ipython3",
   "version": "3.10.4"
  },
  "orig_nbformat": 4,
  "vscode": {
   "interpreter": {
    "hash": "3ad933181bd8a04b432d3370b9dc3b0662ad032c4dfaa4e4f1596c548f763858"
   }
  }
 },
 "nbformat": 4,
 "nbformat_minor": 2
}
