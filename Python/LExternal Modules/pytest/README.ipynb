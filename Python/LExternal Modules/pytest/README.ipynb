{
 "cells": [
  {
   "attachments": {},
   "cell_type": "markdown",
   "metadata": {},
   "source": [
    "# PyTest"
   ]
  },
  {
   "attachments": {},
   "cell_type": "markdown",
   "metadata": {},
   "source": [
    "[Pytest Tutorial](https://www.tutorialspoint.com/pytest/index.htm)\n",
    "\n",
    "```shell\n",
    "python3 -m pytest -v ./test --cov-report=html --cov=. --cov-branch\n",
    "```"
   ]
  },
  {
   "cell_type": "markdown",
   "metadata": {},
   "source": [
    "- `test_*.py`\n",
    "- `*_test.py`"
   ]
  },
  {
   "cell_type": "markdown",
   "metadata": {},
   "source": [
    "## args\n",
    "\n",
    "usage: `pytest [options] [file_or_dir] [file_or_dir] [...]`\n",
    "\n",
    "| args                     | usage                               | description                                   |\n",
    "| :----------------------- | ----------------------------------- | :-------------------------------------------- |\n",
    "| {file_name}::{case_name} | pytest test_math_func.py:: test_add | run specific case in specific module          |\n",
    "| -h                       |                                     | see help                                      |\n",
    "| -k \"condition\"           | -k \"add\"                            | run case while name contains \"add\"            |\n",
    "|                          | -k \"add or string\"                  | run case while name contains \"add or string\"  |\n",
    "|                          | -k \"add and string\"                 | run case while name contains \"add and string\" |\n",
    "|                          | -k \"add and string\"                 | run case while name contains \"add and string\" |\n",
    "| -m {markername}          |                                     | @pytest.mark.number 测试 custom mark          |\n",
    "| -q                       |                                     | 安静                                          |\n",
    "| -s                       |                                     | 执行打印语句                                  |\n",
    "| -v                       |                                     | show details                                  |\n",
    "| -x                       |                                     | 遇到错误就停止                                |\n",
    "| --capture=no             |                                     | 执行打印语句                                  |\n",
    "| --maxfail=1              |                                     | 达到最大错误就停止                            |\n",
    "| --tb=no                  |                                     | 不显示错误 stack trace 信息                   |\n"
   ]
  },
  {
   "cell_type": "markdown",
   "metadata": {},
   "source": [
    "# Attribute\n",
    "\n",
    "- @pytest.mark\n",
    "- @pytest.fixture\n",
    "  - 作用域单文件\n",
    "  - 在 `conftest.py` 文件中定义应用于全局\n",
    "- @pytest.mark.xfail\n",
    "  - 不计入，即使失败\n",
    "- @pytest.mark.skip\n",
    "  - 跳过\n"
   ]
  },
  {
   "cell_type": "markdown",
   "metadata": {},
   "source": [
    "## mark\n",
    "\n",
    "| usage                                       | description     |\n",
    "| :------------------------------------------ | :-------------- |\n",
    "| @pytest.mark.skip(reason=\"do not run test\") | 跳过            |\n",
    "| @pytest.mark.<markername>                   | group the tests |\n"
   ]
  }
 ],
 "metadata": {
  "kernelspec": {
   "display_name": "Python 3.10.8 64-bit",
   "language": "python",
   "name": "python3"
  },
  "language_info": {
   "codemirror_mode": {
    "name": "ipython",
    "version": 3
   },
   "file_extension": ".py",
   "mimetype": "text/x-python",
   "name": "python",
   "nbconvert_exporter": "python",
   "pygments_lexer": "ipython3",
   "version": "3.11.1 (main, Dec  8 2022, 00:05:00) [GCC 10.2.1 20210110]"
  },
  "orig_nbformat": 4,
  "vscode": {
   "interpreter": {
    "hash": "949777d72b0d2535278d3dc13498b2535136f6dfe0678499012e853ee9abcab1"
   }
  }
 },
 "nbformat": 4,
 "nbformat_minor": 2
}
