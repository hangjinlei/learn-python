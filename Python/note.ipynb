{
 "cells": [
  {
   "cell_type": "markdown",
   "metadata": {},
   "source": [
    "# Python"
   ]
  },
  {
   "cell_type": "markdown",
   "metadata": {},
   "source": [
    "https://webbibouroku.com/Blog/Article/pytest-mock"
   ]
  },
  {
   "cell_type": "code",
   "execution_count": 1,
   "metadata": {},
   "outputs": [
    {
     "name": "stdout",
     "output_type": "stream",
     "text": [
      "True\n"
     ]
    }
   ],
   "source": [
    "event = {\n",
    "    \"headers\": {\n",
    "        \"x-amzn-oidc-data\": \"\"\n",
    "    },\n",
    "    \"queryStringParameters\": {\n",
    "        \"redirect_uri\": \"\",\n",
    "        \"state\": \"\",\n",
    "        \"country\": \"\",\n",
    "        \"language\": \"\",\n",
    "        \"client_id\": \"\",\n",
    "    },\n",
    "}\n",
    "\n",
    "print(\"response_type\" not in event[\"queryStringParameters\"])"
   ]
  },
  {
   "cell_type": "code",
   "execution_count": null,
   "metadata": {},
   "outputs": [],
   "source": [
    "event = {\n",
    "    \"headers\": {\n",
    "        \"x-amzn-oidc-data\": \"\"\n",
    "    },\n",
    "    \"queryStringParameters\": {\n",
    "        \"redirect_uri\": \"\",\n",
    "        \"state\": \"\",\n",
    "        \"country\": \"\",\n",
    "        \"language\": \"\",\n",
    "        \"client_id\": \"\",\n",
    "\n",
    "        \"scope\": \"bolapi\",\n",
    "        \"response_type\": \"code\",\n",
    "    },\n",
    "}\n",
    "\n",
    "response_type = \"\"\n",
    "\n",
    "\n",
    "def oauth():\n",
    "    pass\n",
    "\n",
    "\n",
    "oauth()"
   ]
  }
 ],
 "metadata": {
  "kernelspec": {
   "display_name": "Python 3.8.10 64-bit",
   "language": "python",
   "name": "python3"
  },
  "language_info": {
   "codemirror_mode": {
    "name": "ipython",
    "version": 3
   },
   "file_extension": ".py",
   "mimetype": "text/x-python",
   "name": "python",
   "nbconvert_exporter": "python",
   "pygments_lexer": "ipython3",
   "version": "3.8.10"
  },
  "orig_nbformat": 4,
  "vscode": {
   "interpreter": {
    "hash": "31f2aee4e71d21fbe5cf8b01ff0e069b9275f58929596ceb00d14d90e3e16cd6"
   }
  }
 },
 "nbformat": 4,
 "nbformat_minor": 2
}
