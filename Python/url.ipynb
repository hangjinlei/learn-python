{
 "cells": [
  {
   "cell_type": "code",
   "execution_count": 71,
   "metadata": {},
   "outputs": [],
   "source": [
    "request_url_with_query = \"http://localhost:3000/;parameters?deviceToken=test_device_token1&language=jp&sn=111#a\"\n",
    "request_url_without_query = \"http://localhost:3000/\"\n",
    "request_url_with_path = \"http://localhost:3000/home\"\n",
    "request_url_without_path = \"http://localhost:3000\"\n",
    "\n",
    "query = {\n",
    "    \"code\": \"abc\",\n",
    "    \"state\": 123\n",
    "}\n"
   ]
  },
  {
   "cell_type": "code",
   "execution_count": 95,
   "metadata": {},
   "outputs": [],
   "source": [
    "from urllib.parse import urlparse, parse_qs, urlencode, urlunparse\n",
    "\n",
    "\n",
    "def parse_url(url, query):\n",
    "    parsed_url = urlparse(url)\n",
    "    parsed_query = parse_qs(parsed_url.query)\n",
    "    query_dict = {k: v[0] for k, v in parsed_query.items()}\n",
    "    query_new = {**query_dict, **query}\n",
    "    encode_query = urlencode(query_new)\n",
    "\n",
    "    return urlunparse((parsed_url.scheme, parsed_url.netloc, parsed_url.path,\n",
    "                       parsed_url.params, encode_query, parsed_url.fragment))\n"
   ]
  },
  {
   "cell_type": "code",
   "execution_count": 105,
   "metadata": {},
   "outputs": [
    {
     "name": "stdout",
     "output_type": "stream",
     "text": [
      "http://localhost:3000/;parameters?deviceToken=test_device_token1&language=jp&sn=111&code=abc&state=123#a\n"
     ]
    }
   ],
   "source": [
    "url = \"http://localhost:3000/;parameters?deviceToken=test_device_token1&language=jp&sn=111#a\"\n",
    "query = {\n",
    "    \"code\": \"abc\",\n",
    "    \"state\": 123\n",
    "}\n",
    "\n",
    "url = parse_url(url, query)\n",
    "print(url)\n"
   ]
  },
  {
   "cell_type": "code",
   "execution_count": 101,
   "metadata": {},
   "outputs": [
    {
     "data": {
      "text/plain": [
       "'https://www.google.com/search?q=python+url+特殊字符处理&rlz=1C1GCEU_zh-CNJP1023JP1023&oq=python+url+特殊字符处理&aqs=chrome..69i57j0i546.8232j0j7&sourceid=chrome&ie=UTF-8'"
      ]
     },
     "execution_count": 101,
     "metadata": {},
     "output_type": "execute_result"
    }
   ],
   "source": [
    "from urllib.parse import quote, unquote\n",
    "\n",
    "unquote(\"https://www.google.com/search?q=python+url+%E7%89%B9%E6%AE%8A%E5%AD%97%E7%AC%A6%E5%A4%84%E7%90%86&rlz=1C1GCEU_zh-CNJP1023JP1023&oq=python+url+%E7%89%B9%E6%AE%8A%E5%AD%97%E7%AC%A6%E5%A4%84%E7%90%86&aqs=chrome..69i57j0i546.8232j0j7&sourceid=chrome&ie=UTF-8\")\n"
   ]
  },
  {
   "cell_type": "markdown",
   "metadata": {},
   "source": [
    "http://localhost:3000/;parameters?deviceToken=test_device_token1&language=jp&sn=111#a\n",
    "http://localhost:3000?code=abc&state=123\n",
    "http://localhost:3000?deviceToken=test_device_token1&language=jp&sn=111&code=abc&state=123\n",
    "http://localhost:3000?deviceToken=test_device_token1&language=jp&sn=111&code=abc&state=123#a\n",
    "http://localhost:3000/home?code=abc&state=123\n",
    "http://localhost:3000/home?deviceToken=test_device_token1&language=jp&sn=111&code=abc&state=123\n",
    "http://localhost:3000/home?deviceToken=test_device_token1&language=jp&sn=111&code=abc&state=123#a\n",
    "http://localhost:3000/home;parameters?code=abc&state=123\n",
    "http://localhost:3000/home;parameters?deviceToken=test_device_token1&language=jp&sn=111&code=abc&state=123\n",
    "http://localhost:3000/home;parameters?deviceToken=test_device_token1&language=jp&sn=111&code=abc&state=123#a\n",
    "http://localhost:3000/;parameters?code=abc&state=123\n",
    "http://localhost:3000/;parameters?deviceToken=test_device_token1&language=jp&sn=111&code=abc&state=123\n",
    "http://localhost:3000/;parameters?deviceToken=test_device_token1&language=jp&sn=111&code=abc&state=123#a\n",
    "http://localhost:3000/?deviceToken=test_device_token1&language=jp&sn=111&code=abc&state=123\n",
    "http://localhost:3000/?deviceToken=test_device_token1&language=jp&sn=111&code=abc&state=123#a\n",
    "\n"
   ]
  }
 ],
 "metadata": {
  "kernelspec": {
   "display_name": "Python 3.11.1 64-bit",
   "language": "python",
   "name": "python3"
  },
  "language_info": {
   "codemirror_mode": {
    "name": "ipython",
    "version": 3
   },
   "file_extension": ".py",
   "mimetype": "text/x-python",
   "name": "python",
   "nbconvert_exporter": "python",
   "pygments_lexer": "ipython3",
   "version": "3.11.1"
  },
  "orig_nbformat": 4,
  "vscode": {
   "interpreter": {
    "hash": "949777d72b0d2535278d3dc13498b2535136f6dfe0678499012e853ee9abcab1"
   }
  }
 },
 "nbformat": 4,
 "nbformat_minor": 2
}
