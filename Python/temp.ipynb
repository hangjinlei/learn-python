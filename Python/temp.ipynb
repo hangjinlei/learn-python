{
 "cells": [
  {
   "cell_type": "code",
   "execution_count": 1,
   "metadata": {},
   "outputs": [],
   "source": [
    "# Clients Dict\n",
    "Clients = {\n",
    "    \"A\": {\n",
    "        \"CLIENT_ID\": \"A_CLIENT_ID\",\n",
    "        \"CLIENT_SECRET\": \"A_CLIENT_SECRET\",\n",
    "        \"REDIRECT_URI\": \"A_REDIRECT_URI\"\n",
    "    },\n",
    "    \"B\": {\n",
    "        \"CLIENT_ID\": \"B_CLIENT_ID\",\n",
    "        \"CLIENT_SECRET\": \"B_CLIENT_SECRET\",\n",
    "        \"REDIRECT_URI\": \"B_REDIRECT_URI\"\n",
    "    },\n",
    "    \"C\": {\n",
    "        \"CLIENT_ID\": \"C_CLIENT_ID\",\n",
    "        \"CLIENT_SECRET\": \"C_CLIENT_SECRET\",\n",
    "        \"REDIRECT_URI\": \"C_REDIRECT_URI\"\n",
    "    }\n",
    "}\n"
   ]
  },
  {
   "cell_type": "code",
   "execution_count": 6,
   "metadata": {
    "dotnet_interactive": {
     "language": "csharp"
    }
   },
   "outputs": [],
   "source": [
    "def check_client(client_id, client_secret, redirect_uri):\n",
    "    is_valid_client = False\n",
    "    for client in Clients:\n",
    "        if Clients[client][\"CLIENT_ID\"] == client_id and Clients[client][\"CLIENT_SECRET\"] == client_secret and Clients[client][\"REDIRECT_URI\"] == redirect_uri:\n",
    "            is_valid_client = True\n",
    "            print(Clients[client][\"CLIENT_ID\"])\n",
    "            print(Clients[client][\"CLIENT_SECRET\"])\n",
    "            print(Clients[client][\"REDIRECT_URI\"])\n",
    "            break\n",
    "    if not is_valid_client:\n",
    "        print(\"error\")\n",
    "\n",
    "    return is_valid_client\n"
   ]
  },
  {
   "cell_type": "code",
   "execution_count": 7,
   "metadata": {},
   "outputs": [
    {
     "name": "stdout",
     "output_type": "stream",
     "text": [
      "C_CLIENT_ID\n",
      "C_CLIENT_SECRET\n",
      "C_REDIRECT_URI\n",
      "True\n"
     ]
    }
   ],
   "source": [
    "client_id = \"C_CLIENT_ID\"\n",
    "client_secret = \"C_CLIENT_SECRET\"\n",
    "redirect_uri = \"C_REDIRECT_URI\"\n",
    "\n",
    "result = check_client(client_id, client_secret, redirect_uri)\n",
    "print(result)\n"
   ]
  },
  {
   "cell_type": "code",
   "execution_count": 10,
   "metadata": {},
   "outputs": [],
   "source": [
    "from urllib.parse import urlparse, parse_qs, urlencode, unquote\n"
   ]
  },
  {
   "cell_type": "code",
   "execution_count": 11,
   "metadata": {
    "dotnet_interactive": {
     "language": "csharp"
    }
   },
   "outputs": [
    {
     "data": {
      "text/plain": [
       "True"
      ]
     },
     "execution_count": 11,
     "metadata": {},
     "output_type": "execute_result"
    }
   ],
   "source": [
    "def verify_url(redirect_uri, url):\n",
    "    parsed_url = urlparse(url)\n",
    "    parsed_redirect_uri = parsed_url.scheme + \\\n",
    "        \"://\" + parsed_url.netloc + parsed_url.path\n",
    "\n",
    "    return redirect_uri == parsed_redirect_uri\n",
    "\n",
    "\n",
    "verify_url(\"https://hangjinlei.com/note\",\n",
    "           \"https://hangjinlei.com/note?a=1\")\n"
   ]
  },
  {
   "cell_type": "code",
   "execution_count": 12,
   "metadata": {
    "dotnet_interactive": {
     "language": "csharp"
    }
   },
   "outputs": [
    {
     "name": "stdout",
     "output_type": "stream",
     "text": [
      "https://hangjinlei.com/note/Git/Git Commit Message\n",
      "https://hangjinlei.com/note/Git/Git Commit Message\n"
     ]
    }
   ],
   "source": [
    "print(unquote(\"https://hangjinlei.com/note/Git/Git%20Commit%20Message\"))\n",
    "\n",
    "print(unquote(\"https://hangjinlei.com/note/Git/Git Commit Message\"))\n"
   ]
  },
  {
   "cell_type": "code",
   "execution_count": null,
   "metadata": {
    "dotnet_interactive": {
     "language": "csharp"
    }
   },
   "outputs": [],
   "source": [
    "Path = os.environ.get(\"Path\")\n",
    "\n",
    "print(Path)\n",
    "\n",
    "for p in Path.split(\";\"):\n",
    "    print(p)\n"
   ]
  },
  {
   "cell_type": "code",
   "execution_count": 25,
   "metadata": {},
   "outputs": [
    {
     "name": "stdout",
     "output_type": "stream",
     "text": [
      "0\n",
      "1\n",
      "2\n",
      "3\n",
      "4\n"
     ]
    }
   ],
   "source": [
    "funcs = [lambda x, n=n: x+n for n in range(5)]\n",
    "\n",
    "for f in funcs:\n",
    "    print(f(0))\n"
   ]
  }
 ],
 "metadata": {
  "kernelspec": {
   "display_name": "Python 3",
   "language": "python",
   "name": "python3"
  },
  "language_info": {
   "codemirror_mode": {
    "name": "ipython",
    "version": 3
   },
   "file_extension": ".py",
   "mimetype": "text/x-python",
   "name": "python",
   "nbconvert_exporter": "python",
   "pygments_lexer": "ipython3",
   "version": "3.11.1"
  },
  "orig_nbformat": 4,
  "vscode": {
   "interpreter": {
    "hash": "949777d72b0d2535278d3dc13498b2535136f6dfe0678499012e853ee9abcab1"
   }
  }
 },
 "nbformat": 4,
 "nbformat_minor": 2
}
