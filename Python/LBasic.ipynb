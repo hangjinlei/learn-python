{
 "cells": [
  {
   "cell_type": "markdown",
   "metadata": {},
   "source": [
    "# Python"
   ]
  },
  {
   "cell_type": "code",
   "execution_count": 8,
   "metadata": {},
   "outputs": [
    {
     "name": "stdout",
     "output_type": "stream",
     "text": [
      "True\n",
      "\n",
      "Help on built-in function isinstance in module builtins:\n",
      "\n",
      "isinstance(obj, class_or_tuple, /)\n",
      "    Return whether an object is an instance of a class or of a subclass thereof.\n",
      "    \n",
      "    A tuple, as in ``isinstance(x, (A, B, ...))``, may be given as the target to\n",
      "    check against. This is equivalent to ``isinstance(x, A) or isinstance(x, B)\n",
      "    or ...`` etc.\n",
      "\n"
     ]
    }
   ],
   "source": [
    "\"\"\"\n",
    "内置方法\n",
    "\n",
    "help()\n",
    "isinstance(obj, class_or_tuple)\n",
    "issubclass(cls, class_or_tuple)\n",
    "\"\"\"\n",
    "\n",
    "# 判断对象是否是某个类的实例\n",
    "print(isinstance(\"aaa\", str), end=\"\\n\\n\")\n",
    "\n",
    "# 查看类的帮助文档\n",
    "help(isinstance)\n"
   ]
  },
  {
   "cell_type": "markdown",
   "metadata": {},
   "source": [
    "with 关键字\n",
    "\n",
    "- [指导](https://www.jianshu.com/p/5b01fb36fd4c)\n",
    "- [Python with 关键字 | 菜鸟教程](https://www.runoob.com/python3/python-with.html)\n",
    "\n",
    "1. 文件操作\n",
    "2. 进程线程之间互斥对象\n",
    "3. 支持上下文其他对象\n",
    "4. 能够释放资源"
   ]
  },
  {
   "attachments": {},
   "cell_type": "markdown",
   "metadata": {},
   "source": [
    "Output\n"
   ]
  },
  {
   "cell_type": "code",
   "execution_count": 1,
   "metadata": {},
   "outputs": [
    {
     "name": "stdout",
     "output_type": "stream",
     "text": [
      "timothy\n",
      "**********\n"
     ]
    }
   ],
   "source": [
    "print(\"timothy\")\n",
    "print(\"*\"*10)"
   ]
  },
  {
   "cell_type": "markdown",
   "metadata": {},
   "source": [
    "Variables"
   ]
  },
  {
   "cell_type": "code",
   "execution_count": 2,
   "metadata": {},
   "outputs": [],
   "source": [
    "price = 10\n",
    "rating = 4.9\n",
    "name = \"timothy\"\n",
    "is_published = True"
   ]
  },
  {
   "cell_type": "markdown",
   "metadata": {},
   "source": [
    "Input"
   ]
  },
  {
   "cell_type": "code",
   "execution_count": 3,
   "metadata": {},
   "outputs": [
    {
     "name": "stdout",
     "output_type": "stream",
     "text": [
      "Hi timothy\n",
      "timothy likes blue\n"
     ]
    }
   ],
   "source": [
    "name = input(\"What is your name? \")\n",
    "color = input(\"What is your favorite color? \")\n",
    "print(\"Hi \" + name)\n",
    "print(name + \" likes \" + color)"
   ]
  },
  {
   "cell_type": "markdown",
   "metadata": {},
   "source": [
    "Type Conversion"
   ]
  },
  {
   "cell_type": "code",
   "execution_count": 5,
   "metadata": {},
   "outputs": [
    {
     "name": "stdout",
     "output_type": "stream",
     "text": [
      "<class 'str'>\n",
      "<class 'int'>\n",
      "23\n"
     ]
    }
   ],
   "source": [
    "birth_year = input(\"Birth year: \")\n",
    "print(type(birth_year))\n",
    "age = 2022 - int(birth_year)\n",
    "print(type(age))\n",
    "print(age)"
   ]
  },
  {
   "cell_type": "markdown",
   "metadata": {},
   "source": [
    "Strings"
   ]
  },
  {
   "cell_type": "code",
   "execution_count": 6,
   "metadata": {},
   "outputs": [
    {
     "name": "stdout",
     "output_type": "stream",
     "text": [
      "\n",
      "Hi john,\n",
      "\n",
      "Here is our first email to you.\n",
      "\n",
      "Thank you,\n",
      "The support team\n",
      "\n"
     ]
    }
   ],
   "source": [
    "course = \"Python's for Beginners\" # \"\"\n",
    "course = 'Python for \"Beginners\"' # ''\n",
    "course = '''\n",
    "Hi john,\n",
    "\n",
    "Here is our first email to you.\n",
    "\n",
    "Thank you,\n",
    "The support team\n",
    "''' # '''\n",
    "print(course)"
   ]
  },
  {
   "cell_type": "code",
   "execution_count": 7,
   "metadata": {},
   "outputs": [
    {
     "name": "stdout",
     "output_type": "stream",
     "text": [
      "T\n",
      "y\n",
      "Tim\n",
      "imothy\n",
      "Tim\n",
      "Timothy\n",
      "imoth\n"
     ]
    }
   ],
   "source": [
    "name = \"Timothy\"\n",
    "print(name[0])  # T\n",
    "print(name[-1])  # y\n",
    "print(name[0:3])  # Tim\n",
    "print(name[1:])  # imothy\n",
    "print(name[:3])  # Tim\n",
    "\n",
    "newName = name[:]  # to clone a string\n",
    "print(newName)\n",
    "\n",
    "print(name[1:-1])  # imoth"
   ]
  },
  {
   "cell_type": "markdown",
   "metadata": {},
   "source": [
    "Formatted String"
   ]
  },
  {
   "cell_type": "code",
   "execution_count": 12,
   "metadata": {},
   "outputs": [
    {
     "name": "stdout",
     "output_type": "stream",
     "text": [
      "John [Smith] is a coder\n",
      "John [Smith] is a coder\n",
      "John [Smith] is a coder\n"
     ]
    }
   ],
   "source": [
    "first = \"John\"\n",
    "last = \"Smith\"\n",
    "message = first + \" [\" + last + \"] is a coder\"\n",
    "print(message)\n",
    "\n",
    "print(f\"{first} [{last}] is a coder\")\n",
    "print(\"{0} [{1}] is a coder\".format(first, last))\n"
   ]
  },
  {
   "cell_type": "markdown",
   "metadata": {},
   "source": [
    "String Methods"
   ]
  },
  {
   "cell_type": "code",
   "execution_count": 9,
   "metadata": {},
   "outputs": [
    {
     "name": "stdout",
     "output_type": "stream",
     "text": [
      "20\n",
      "PYTHON FOR BEGINNERS\n",
      "python for beginners\n",
      "Python for Beginners\n",
      "0\n",
      "11\n",
      "Python for Absolute Beginners\n",
      "True\n"
     ]
    }
   ],
   "source": [
    "course = \"Python for Beginners\"\n",
    "print(len(course))\n",
    "print(course.upper())\n",
    "print(course.lower())\n",
    "print(course)  # won't change origin value\n",
    "\n",
    "print(course.find(\"P\"))\n",
    "print(course.find(\"Beginners\"))\n",
    "print(course.replace(\"Beginners\", \"Absolute Beginners\"))\n",
    "print(\"Python\" in course)  # expression\n",
    "\n",
    "str = \"a-b-c-d\"\n",
    "\n",
    "str[str.find(\"-\")+1:]\n"
   ]
  },
  {
   "cell_type": "markdown",
   "metadata": {},
   "source": [
    "Arithmetic Operations"
   ]
  },
  {
   "cell_type": "code",
   "execution_count": 10,
   "metadata": {},
   "outputs": [
    {
     "name": "stdout",
     "output_type": "stream",
     "text": [
      "13\n",
      "3.3333333333333335\n",
      "3\n",
      "1\n",
      "1000\n"
     ]
    }
   ],
   "source": [
    "print(10 + 3)\n",
    "print(10 / 3)\n",
    "print(10 // 3) # 3\n",
    "print(10 % 3) # 1\n",
    "print(10 ** 3) # 1000"
   ]
  },
  {
   "cell_type": "markdown",
   "metadata": {},
   "source": [
    "Operator Precedence"
   ]
  },
  {
   "cell_type": "code",
   "execution_count": 12,
   "metadata": {},
   "outputs": [
    {
     "name": "stdout",
     "output_type": "stream",
     "text": [
      "22\n",
      "52\n"
     ]
    }
   ],
   "source": [
    "x = 10 + 3 * 2 ** 2\n",
    "print(x)\n",
    "x = (10 + 3) * 2 ** 2\n",
    "print(x)\n",
    "\n",
    "# parenthesis `()`\n",
    "# exponentiation `2 ** 3`\n",
    "# multiplication or division\n",
    "# addition or subtraction"
   ]
  },
  {
   "cell_type": "markdown",
   "metadata": {},
   "source": [
    "Math Functions"
   ]
  },
  {
   "cell_type": "code",
   "execution_count": 13,
   "metadata": {},
   "outputs": [
    {
     "name": "stdout",
     "output_type": "stream",
     "text": [
      "-3\n",
      "2.9\n",
      "-2\n",
      "-3\n"
     ]
    }
   ],
   "source": [
    "from math import ceil, floor\n",
    "\n",
    "\n",
    "x = -2.9\n",
    "print(round(x))\n",
    "print(abs(x))\n",
    "print(ceil(x))\n",
    "print(floor(x))"
   ]
  },
  {
   "cell_type": "markdown",
   "metadata": {},
   "source": [
    "Exceptions"
   ]
  },
  {
   "cell_type": "code",
   "execution_count": 14,
   "metadata": {},
   "outputs": [
    {
     "name": "stdout",
     "output_type": "stream",
     "text": [
      "Invalid value\n"
     ]
    }
   ],
   "source": [
    "try:\n",
    "    age = int(input(\"Age: \"))\n",
    "    income = 20000\n",
    "    risk = income / age\n",
    "    print(age)\n",
    "except ValueError:\n",
    "    print(\"Invalid value\")\n",
    "except ZeroDivisionError:\n",
    "    print(\"Age connot be 0.\")"
   ]
  }
 ],
 "metadata": {
  "kernelspec": {
   "display_name": "Python 3.10.8 64-bit",
   "language": "python",
   "name": "python3"
  },
  "language_info": {
   "codemirror_mode": {
    "name": "ipython",
    "version": 3
   },
   "file_extension": ".py",
   "mimetype": "text/x-python",
   "name": "python",
   "nbconvert_exporter": "python",
   "pygments_lexer": "ipython3",
   "version": "3.11.1"
  },
  "orig_nbformat": 4,
  "vscode": {
   "interpreter": {
    "hash": "949777d72b0d2535278d3dc13498b2535136f6dfe0678499012e853ee9abcab1"
   }
  }
 },
 "nbformat": 4,
 "nbformat_minor": 2
}
